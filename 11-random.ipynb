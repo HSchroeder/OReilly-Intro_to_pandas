{
 "cells": [
  {
   "cell_type": "code",
   "execution_count": 3,
   "id": "0fde2278-eb97-4b51-bec5-666626be0093",
   "metadata": {},
   "outputs": [
    {
     "data": {
      "text/plain": [
       "123123123123"
      ]
     },
     "execution_count": 3,
     "metadata": {},
     "output_type": "execute_result"
    }
   ],
   "source": [
    "123123123123"
   ]
  },
  {
   "cell_type": "code",
   "execution_count": 4,
   "id": "0725c4ad-30e5-4c4e-a1f2-9c723b47503d",
   "metadata": {},
   "outputs": [
    {
     "data": {
      "text/plain": [
       "123123123123"
      ]
     },
     "execution_count": 4,
     "metadata": {},
     "output_type": "execute_result"
    }
   ],
   "source": [
    "123_123_123_123"
   ]
  },
  {
   "cell_type": "code",
   "execution_count": 5,
   "id": "03b381da-a2ca-42fc-acda-78463fba803d",
   "metadata": {},
   "outputs": [
    {
     "data": {
      "text/plain": [
       "1234"
      ]
     },
     "execution_count": 5,
     "metadata": {},
     "output_type": "execute_result"
    }
   ],
   "source": [
    "1_234"
   ]
  },
  {
   "cell_type": "code",
   "execution_count": 6,
   "id": "bbb30184-cec4-4677-99eb-3265e8d32a6a",
   "metadata": {},
   "outputs": [
    {
     "data": {
      "text/plain": [
       "['col1', 'col2', 'col3']"
      ]
     },
     "execution_count": 6,
     "metadata": {},
     "output_type": "execute_result"
    }
   ],
   "source": [
    "[\"col1\", \"col2\", \"col3\"]"
   ]
  },
  {
   "cell_type": "code",
   "execution_count": 8,
   "id": "a57754c5-a08e-4893-af1f-1e25c3644e57",
   "metadata": {},
   "outputs": [
    {
     "data": {
      "text/plain": [
       "['col1', 'col2', 'col3']"
      ]
     },
     "execution_count": 8,
     "metadata": {},
     "output_type": "execute_result"
    }
   ],
   "source": [
    "[\n",
    " \"col1\",\n",
    " \"col2\",\n",
    " \"col3\"\n",
    "]"
   ]
  },
  {
   "cell_type": "code",
   "execution_count": 9,
   "id": "71b00b7b-ea8b-4984-a321-dcd336f5ff34",
   "metadata": {},
   "outputs": [
    {
     "data": {
      "text/plain": [
       "['col1', 'col2', 'col3']"
      ]
     },
     "execution_count": 9,
     "metadata": {},
     "output_type": "execute_result"
    }
   ],
   "source": [
    "[\n",
    " \"col1\",\n",
    " \"col2\",\n",
    " \"col3\",\n",
    "]"
   ]
  },
  {
   "cell_type": "code",
   "execution_count": 10,
   "id": "d4c31ff2-196f-49b1-9e80-50e568119e39",
   "metadata": {},
   "outputs": [
    {
     "data": {
      "text/plain": [
       "['col2', 'col3']"
      ]
     },
     "execution_count": 10,
     "metadata": {},
     "output_type": "execute_result"
    }
   ],
   "source": [
    "[\n",
    " #\"col1\",\n",
    " \"col2\",\n",
    " \"col3\",\n",
    "]"
   ]
  },
  {
   "cell_type": "code",
   "execution_count": 12,
   "id": "9cab6b5c-37ec-4921-938b-1ea7065f3093",
   "metadata": {},
   "outputs": [
    {
     "data": {
      "text/plain": [
       "['col1', 'col2']"
      ]
     },
     "execution_count": 12,
     "metadata": {},
     "output_type": "execute_result"
    }
   ],
   "source": [
    "[\n",
    " \"col1\",\n",
    " \"col2\",\n",
    " #\"col3\",\n",
    "]"
   ]
  },
  {
   "cell_type": "code",
   "execution_count": null,
   "id": "fd744ec9-0219-4e90-ae47-0c946d336749",
   "metadata": {},
   "outputs": [],
   "source": []
  }
 ],
 "metadata": {
  "kernelspec": {
   "display_name": "Python 3 (ipykernel)",
   "language": "python",
   "name": "python3"
  },
  "language_info": {
   "codemirror_mode": {
    "name": "ipython",
    "version": 3
   },
   "file_extension": ".py",
   "mimetype": "text/x-python",
   "name": "python",
   "nbconvert_exporter": "python",
   "pygments_lexer": "ipython3",
   "version": "3.9.13"
  }
 },
 "nbformat": 4,
 "nbformat_minor": 5
}
